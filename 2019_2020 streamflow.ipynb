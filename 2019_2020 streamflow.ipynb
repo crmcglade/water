{
 "cells": [
  {
   "cell_type": "code",
   "execution_count": 1,
   "metadata": {},
   "outputs": [],
   "source": [
    "import pandas as pd\n",
    "import csv"
   ]
  },
  {
   "cell_type": "code",
   "execution_count": 2,
   "metadata": {},
   "outputs": [],
   "source": [
    "df2019 = pd.read_csv('dv_wy2019_A_wus.rdb', sep=\"\\t\", encoding=\"latin-1\", dtype={'site_no': str})"
   ]
  },
  {
   "cell_type": "code",
   "execution_count": 3,
   "metadata": {},
   "outputs": [],
   "source": [
    "df2020 = pd.read_csv('dv_wy2020_A_wus.rdb', sep=\"\\t\", encoding=\"latin-1\", dtype={'site_no': str})"
   ]
  },
  {
   "cell_type": "code",
   "execution_count": 4,
   "metadata": {},
   "outputs": [],
   "source": [
    "df2019['result_dt'] = pd.to_datetime(df2019['result_dt'])"
   ]
  },
  {
   "cell_type": "code",
   "execution_count": 5,
   "metadata": {},
   "outputs": [
    {
     "data": {
      "text/html": [
       "<div>\n",
       "<style scoped>\n",
       "    .dataframe tbody tr th:only-of-type {\n",
       "        vertical-align: middle;\n",
       "    }\n",
       "\n",
       "    .dataframe tbody tr th {\n",
       "        vertical-align: top;\n",
       "    }\n",
       "\n",
       "    .dataframe thead th {\n",
       "        text-align: right;\n",
       "    }\n",
       "</style>\n",
       "<table border=\"1\" class=\"dataframe\">\n",
       "  <thead>\n",
       "    <tr style=\"text-align: right;\">\n",
       "      <th></th>\n",
       "      <th>site_no</th>\n",
       "      <th>state_cd</th>\n",
       "      <th>huc_cd</th>\n",
       "      <th>drain_area_va</th>\n",
       "      <th>parameter_cd</th>\n",
       "      <th>site_id</th>\n",
       "      <th>ts_id</th>\n",
       "      <th>stat_cd</th>\n",
       "      <th>result_dt</th>\n",
       "      <th>result_va</th>\n",
       "      <th>result_cd</th>\n",
       "      <th>data_aging_cd</th>\n",
       "      <th>dv_md</th>\n",
       "    </tr>\n",
       "  </thead>\n",
       "  <tbody>\n",
       "    <tr>\n",
       "      <th>976662</th>\n",
       "      <td>480608115242901</td>\n",
       "      <td>30</td>\n",
       "      <td>17010102</td>\n",
       "      <td>NaN</td>\n",
       "      <td>60</td>\n",
       "      <td>2548515</td>\n",
       "      <td>82239</td>\n",
       "      <td>3</td>\n",
       "      <td>2019-09-30</td>\n",
       "      <td>0.00</td>\n",
       "      <td>e</td>\n",
       "      <td>A</td>\n",
       "      <td>2020-01-29 17:43:06</td>\n",
       "    </tr>\n",
       "    <tr>\n",
       "      <th>802817</th>\n",
       "      <td>12452500</td>\n",
       "      <td>53</td>\n",
       "      <td>17020009</td>\n",
       "      <td>924.0</td>\n",
       "      <td>60</td>\n",
       "      <td>1180456</td>\n",
       "      <td>149827</td>\n",
       "      <td>3</td>\n",
       "      <td>2019-09-30</td>\n",
       "      <td>2120.00</td>\n",
       "      <td>NaN</td>\n",
       "      <td>A</td>\n",
       "      <td>2020-05-19 16:59:07</td>\n",
       "    </tr>\n",
       "    <tr>\n",
       "      <th>541979</th>\n",
       "      <td>11237600</td>\n",
       "      <td>6</td>\n",
       "      <td>18040006</td>\n",
       "      <td>NaN</td>\n",
       "      <td>60</td>\n",
       "      <td>2208665</td>\n",
       "      <td>213739</td>\n",
       "      <td>3</td>\n",
       "      <td>2019-09-30</td>\n",
       "      <td>0.00</td>\n",
       "      <td>NaN</td>\n",
       "      <td>A</td>\n",
       "      <td>2020-01-09 18:10:06</td>\n",
       "    </tr>\n",
       "    <tr>\n",
       "      <th>760144</th>\n",
       "      <td>12323600</td>\n",
       "      <td>30</td>\n",
       "      <td>17010201</td>\n",
       "      <td>343.0</td>\n",
       "      <td>60</td>\n",
       "      <td>66089</td>\n",
       "      <td>81830</td>\n",
       "      <td>3</td>\n",
       "      <td>2019-09-30</td>\n",
       "      <td>56.80</td>\n",
       "      <td>NaN</td>\n",
       "      <td>A</td>\n",
       "      <td>2020-04-28 14:11:06</td>\n",
       "    </tr>\n",
       "    <tr>\n",
       "      <th>311262</th>\n",
       "      <td>09496500</td>\n",
       "      <td>4</td>\n",
       "      <td>15060104</td>\n",
       "      <td>439.0</td>\n",
       "      <td>60</td>\n",
       "      <td>19767</td>\n",
       "      <td>5655</td>\n",
       "      <td>3</td>\n",
       "      <td>2019-09-30</td>\n",
       "      <td>1.28</td>\n",
       "      <td>NaN</td>\n",
       "      <td>A</td>\n",
       "      <td>2019-11-12 15:33:06</td>\n",
       "    </tr>\n",
       "  </tbody>\n",
       "</table>\n",
       "</div>"
      ],
      "text/plain": [
       "                site_no  state_cd    huc_cd  drain_area_va  parameter_cd  \\\n",
       "976662  480608115242901        30  17010102            NaN            60   \n",
       "802817         12452500        53  17020009          924.0            60   \n",
       "541979         11237600         6  18040006            NaN            60   \n",
       "760144         12323600        30  17010201          343.0            60   \n",
       "311262         09496500         4  15060104          439.0            60   \n",
       "\n",
       "        site_id   ts_id  stat_cd  result_dt  result_va result_cd  \\\n",
       "976662  2548515   82239        3 2019-09-30       0.00         e   \n",
       "802817  1180456  149827        3 2019-09-30    2120.00       NaN   \n",
       "541979  2208665  213739        3 2019-09-30       0.00       NaN   \n",
       "760144    66089   81830        3 2019-09-30      56.80       NaN   \n",
       "311262    19767    5655        3 2019-09-30       1.28       NaN   \n",
       "\n",
       "       data_aging_cd                dv_md  \n",
       "976662             A  2020-01-29 17:43:06  \n",
       "802817             A  2020-05-19 16:59:07  \n",
       "541979             A  2020-01-09 18:10:06  \n",
       "760144             A  2020-04-28 14:11:06  \n",
       "311262             A  2019-11-12 15:33:06  "
      ]
     },
     "execution_count": 5,
     "metadata": {},
     "output_type": "execute_result"
    }
   ],
   "source": [
    "df2019.sort_values('result_dt', ascending=False).head()"
   ]
  },
  {
   "cell_type": "code",
   "execution_count": 6,
   "metadata": {},
   "outputs": [
    {
     "data": {
      "text/html": [
       "<div>\n",
       "<style scoped>\n",
       "    .dataframe tbody tr th:only-of-type {\n",
       "        vertical-align: middle;\n",
       "    }\n",
       "\n",
       "    .dataframe tbody tr th {\n",
       "        vertical-align: top;\n",
       "    }\n",
       "\n",
       "    .dataframe thead th {\n",
       "        text-align: right;\n",
       "    }\n",
       "</style>\n",
       "<table border=\"1\" class=\"dataframe\">\n",
       "  <thead>\n",
       "    <tr style=\"text-align: right;\">\n",
       "      <th></th>\n",
       "      <th>site_no</th>\n",
       "      <th>state_cd</th>\n",
       "      <th>huc_cd</th>\n",
       "      <th>drain_area_va</th>\n",
       "      <th>parameter_cd</th>\n",
       "      <th>site_id</th>\n",
       "      <th>ts_id</th>\n",
       "      <th>stat_cd</th>\n",
       "      <th>result_dt</th>\n",
       "      <th>result_va</th>\n",
       "      <th>result_cd</th>\n",
       "      <th>data_aging_cd</th>\n",
       "      <th>dv_md</th>\n",
       "    </tr>\n",
       "  </thead>\n",
       "  <tbody>\n",
       "    <tr>\n",
       "      <th>956321</th>\n",
       "      <td>480608115242901</td>\n",
       "      <td>30</td>\n",
       "      <td>17010102</td>\n",
       "      <td>NaN</td>\n",
       "      <td>60</td>\n",
       "      <td>2548515</td>\n",
       "      <td>82239</td>\n",
       "      <td>3</td>\n",
       "      <td>2020-09-30</td>\n",
       "      <td>0.00</td>\n",
       "      <td>e</td>\n",
       "      <td>A</td>\n",
       "      <td>2020-12-08 09:39:07</td>\n",
       "    </tr>\n",
       "    <tr>\n",
       "      <th>328012</th>\n",
       "      <td>09522740</td>\n",
       "      <td>4</td>\n",
       "      <td>15070201</td>\n",
       "      <td>NaN</td>\n",
       "      <td>60</td>\n",
       "      <td>2233611</td>\n",
       "      <td>5830</td>\n",
       "      <td>3</td>\n",
       "      <td>2020-09-30</td>\n",
       "      <td>11.30</td>\n",
       "      <td>NaN</td>\n",
       "      <td>A</td>\n",
       "      <td>2021-03-11 12:57:06</td>\n",
       "    </tr>\n",
       "    <tr>\n",
       "      <th>326914</th>\n",
       "      <td>09522710</td>\n",
       "      <td>4</td>\n",
       "      <td>15070201</td>\n",
       "      <td>NaN</td>\n",
       "      <td>60</td>\n",
       "      <td>2226829</td>\n",
       "      <td>5826</td>\n",
       "      <td>3</td>\n",
       "      <td>2020-09-30</td>\n",
       "      <td>0.46</td>\n",
       "      <td>NaN</td>\n",
       "      <td>A</td>\n",
       "      <td>2020-12-11 12:35:15</td>\n",
       "    </tr>\n",
       "    <tr>\n",
       "      <th>871969</th>\n",
       "      <td>13341570</td>\n",
       "      <td>16</td>\n",
       "      <td>17060306</td>\n",
       "      <td>583.0</td>\n",
       "      <td>60</td>\n",
       "      <td>2179137</td>\n",
       "      <td>46571</td>\n",
       "      <td>3</td>\n",
       "      <td>2020-09-30</td>\n",
       "      <td>12.40</td>\n",
       "      <td>NaN</td>\n",
       "      <td>A</td>\n",
       "      <td>2020-11-30 19:08:06</td>\n",
       "    </tr>\n",
       "    <tr>\n",
       "      <th>327280</th>\n",
       "      <td>09522720</td>\n",
       "      <td>4</td>\n",
       "      <td>15070201</td>\n",
       "      <td>NaN</td>\n",
       "      <td>60</td>\n",
       "      <td>2233609</td>\n",
       "      <td>5828</td>\n",
       "      <td>3</td>\n",
       "      <td>2020-09-30</td>\n",
       "      <td>0.71</td>\n",
       "      <td>NaN</td>\n",
       "      <td>A</td>\n",
       "      <td>2021-06-09 15:50:06</td>\n",
       "    </tr>\n",
       "  </tbody>\n",
       "</table>\n",
       "</div>"
      ],
      "text/plain": [
       "                site_no  state_cd    huc_cd  drain_area_va  parameter_cd  \\\n",
       "956321  480608115242901        30  17010102            NaN            60   \n",
       "328012         09522740         4  15070201            NaN            60   \n",
       "326914         09522710         4  15070201            NaN            60   \n",
       "871969         13341570        16  17060306          583.0            60   \n",
       "327280         09522720         4  15070201            NaN            60   \n",
       "\n",
       "        site_id  ts_id  stat_cd  result_dt  result_va result_cd data_aging_cd  \\\n",
       "956321  2548515  82239        3 2020-09-30       0.00         e             A   \n",
       "328012  2233611   5830        3 2020-09-30      11.30       NaN             A   \n",
       "326914  2226829   5826        3 2020-09-30       0.46       NaN             A   \n",
       "871969  2179137  46571        3 2020-09-30      12.40       NaN             A   \n",
       "327280  2233609   5828        3 2020-09-30       0.71       NaN             A   \n",
       "\n",
       "                      dv_md  \n",
       "956321  2020-12-08 09:39:07  \n",
       "328012  2021-03-11 12:57:06  \n",
       "326914  2020-12-11 12:35:15  \n",
       "871969  2020-11-30 19:08:06  \n",
       "327280  2021-06-09 15:50:06  "
      ]
     },
     "execution_count": 6,
     "metadata": {},
     "output_type": "execute_result"
    }
   ],
   "source": [
    "df2020['result_dt'] = pd.to_datetime(df2020['result_dt'])\n",
    "df2020.sort_values('result_dt', ascending=False).head()"
   ]
  },
  {
   "cell_type": "code",
   "execution_count": 7,
   "metadata": {},
   "outputs": [],
   "source": [
    "#append multiple dfs\n",
    "df = pd.concat([df2019, df2020], ignore_index=True)"
   ]
  },
  {
   "cell_type": "code",
   "execution_count": 8,
   "metadata": {},
   "outputs": [],
   "source": [
    "df = df[['result_dt', 'result_va', 'site_no']]"
   ]
  },
  {
   "cell_type": "code",
   "execution_count": 9,
   "metadata": {},
   "outputs": [],
   "source": [
    "df = df.drop_duplicates()"
   ]
  },
  {
   "cell_type": "code",
   "execution_count": 10,
   "metadata": {},
   "outputs": [
    {
     "name": "stderr",
     "output_type": "stream",
     "text": [
      "C:\\Users\\cmcglade\\Anaconda3\\lib\\site-packages\\IPython\\core\\interactiveshell.py:3071: DtypeWarning: Columns (3) have mixed types.Specify dtype option on import or set low_memory=False.\n",
      "  has_raised = await self.run_ast_nodes(code_ast.body, cell_name,\n"
     ]
    }
   ],
   "source": [
    "allsites = pd.read_csv('dv01d.csv', dtype={'site_no': str})"
   ]
  },
  {
   "cell_type": "code",
   "execution_count": 11,
   "metadata": {},
   "outputs": [],
   "source": [
    "allsites = allsites[['result_dt', 'result_va', 'site_no']]\n",
    "allsites = allsites.drop_duplicates()"
   ]
  },
  {
   "cell_type": "code",
   "execution_count": 12,
   "metadata": {},
   "outputs": [],
   "source": [
    "allsites2 = pd.concat([df, allsites], ignore_index=True)\n",
    "allsites2 = allsites2.drop_duplicates()"
   ]
  },
  {
   "cell_type": "code",
   "execution_count": 13,
   "metadata": {},
   "outputs": [],
   "source": [
    "allsites2['result_dt'] = pd.to_datetime(allsites2['result_dt'])\n",
    "allsites2['year'] = pd.DatetimeIndex(allsites2['result_dt']).year "
   ]
  },
  {
   "cell_type": "code",
   "execution_count": 14,
   "metadata": {},
   "outputs": [],
   "source": [
    "allsites2['site_no!'] = \"!\" + allsites2['site_no']"
   ]
  },
  {
   "cell_type": "code",
   "execution_count": 17,
   "metadata": {},
   "outputs": [
    {
     "data": {
      "text/html": [
       "<div>\n",
       "<style scoped>\n",
       "    .dataframe tbody tr th:only-of-type {\n",
       "        vertical-align: middle;\n",
       "    }\n",
       "\n",
       "    .dataframe tbody tr th {\n",
       "        vertical-align: top;\n",
       "    }\n",
       "\n",
       "    .dataframe thead th {\n",
       "        text-align: right;\n",
       "    }\n",
       "</style>\n",
       "<table border=\"1\" class=\"dataframe\">\n",
       "  <thead>\n",
       "    <tr style=\"text-align: right;\">\n",
       "      <th></th>\n",
       "      <th>result_dt</th>\n",
       "      <th>result_va</th>\n",
       "      <th>site_no</th>\n",
       "      <th>year</th>\n",
       "      <th>site_no!</th>\n",
       "    </tr>\n",
       "  </thead>\n",
       "  <tbody>\n",
       "    <tr>\n",
       "      <th>20520795</th>\n",
       "      <td>1857-02-24</td>\n",
       "      <td>148.0</td>\n",
       "      <td>10079500</td>\n",
       "      <td>1857</td>\n",
       "      <td>!10079500</td>\n",
       "    </tr>\n",
       "    <tr>\n",
       "      <th>20520772</th>\n",
       "      <td>1857-02-01</td>\n",
       "      <td>135.0</td>\n",
       "      <td>10079500</td>\n",
       "      <td>1857</td>\n",
       "      <td>!10079500</td>\n",
       "    </tr>\n",
       "    <tr>\n",
       "      <th>20520774</th>\n",
       "      <td>1857-02-03</td>\n",
       "      <td>187.0</td>\n",
       "      <td>10079500</td>\n",
       "      <td>1857</td>\n",
       "      <td>!10079500</td>\n",
       "    </tr>\n",
       "    <tr>\n",
       "      <th>20520775</th>\n",
       "      <td>1857-02-04</td>\n",
       "      <td>184.0</td>\n",
       "      <td>10079500</td>\n",
       "      <td>1857</td>\n",
       "      <td>!10079500</td>\n",
       "    </tr>\n",
       "    <tr>\n",
       "      <th>20520776</th>\n",
       "      <td>1857-02-05</td>\n",
       "      <td>296.0</td>\n",
       "      <td>10079500</td>\n",
       "      <td>1857</td>\n",
       "      <td>!10079500</td>\n",
       "    </tr>\n",
       "  </tbody>\n",
       "</table>\n",
       "</div>"
      ],
      "text/plain": [
       "          result_dt  result_va   site_no  year   site_no!\n",
       "20520795 1857-02-24      148.0  10079500  1857  !10079500\n",
       "20520772 1857-02-01      135.0  10079500  1857  !10079500\n",
       "20520774 1857-02-03      187.0  10079500  1857  !10079500\n",
       "20520775 1857-02-04      184.0  10079500  1857  !10079500\n",
       "20520776 1857-02-05      296.0  10079500  1857  !10079500"
      ]
     },
     "execution_count": 17,
     "metadata": {},
     "output_type": "execute_result"
    }
   ],
   "source": [
    "allsites2.sort_values('year', ascending=True).head()"
   ]
  },
  {
   "cell_type": "code",
   "execution_count": 18,
   "metadata": {},
   "outputs": [],
   "source": [
    "allsitesmaxyear = allsites2.groupby(['site_no!'])['year'].max().to_frame(name = 'maxresultdate').reset_index()"
   ]
  },
  {
   "cell_type": "code",
   "execution_count": 33,
   "metadata": {},
   "outputs": [],
   "source": [
    "df = pd.read_csv('dv01d_por2.rdb', sep=\"\\t\", encoding=\"latin-1\", dtype={'site_no': str, 'state_cd': str})\n",
    "df['end_dt'] = pd.to_datetime(df['end_dt'])\n",
    "df['begin_dt'] = pd.to_datetime(df['begin_dt'])\n",
    "\n",
    "df['end_year'] = pd.DatetimeIndex(df['end_dt']).year #create a field for year\n",
    "df['begin_year'] = pd.DatetimeIndex(df['begin_dt']).year #create a field for year\n",
    "directory = df"
   ]
  },
  {
   "cell_type": "code",
   "execution_count": 34,
   "metadata": {},
   "outputs": [],
   "source": [
    "directory['site_no!'] = \"!\" + directory['site_no']"
   ]
  },
  {
   "cell_type": "code",
   "execution_count": 38,
   "metadata": {},
   "outputs": [],
   "source": [
    "allsites3 = allsitesmaxyear.merge(directory, left_on='site_no!', right_on=\"site_no!\",how=\"inner\")"
   ]
  },
  {
   "cell_type": "code",
   "execution_count": 40,
   "metadata": {},
   "outputs": [],
   "source": [
    "allsites3.to_csv('allsiteslastyear.csv')"
   ]
  },
  {
   "cell_type": "code",
   "execution_count": 36,
   "metadata": {},
   "outputs": [],
   "source": [
    "directory = directory[['site_no!', 'state_cd', 'dec_lat_va', 'dec_long_va', 'station_nm']]"
   ]
  },
  {
   "cell_type": "code",
   "execution_count": 37,
   "metadata": {},
   "outputs": [
    {
     "data": {
      "text/html": [
       "<div>\n",
       "<style scoped>\n",
       "    .dataframe tbody tr th:only-of-type {\n",
       "        vertical-align: middle;\n",
       "    }\n",
       "\n",
       "    .dataframe tbody tr th {\n",
       "        vertical-align: top;\n",
       "    }\n",
       "\n",
       "    .dataframe thead th {\n",
       "        text-align: right;\n",
       "    }\n",
       "</style>\n",
       "<table border=\"1\" class=\"dataframe\">\n",
       "  <thead>\n",
       "    <tr style=\"text-align: right;\">\n",
       "      <th></th>\n",
       "      <th>site_no!</th>\n",
       "      <th>state_cd</th>\n",
       "      <th>dec_lat_va</th>\n",
       "      <th>dec_long_va</th>\n",
       "      <th>station_nm</th>\n",
       "    </tr>\n",
       "  </thead>\n",
       "  <tbody>\n",
       "    <tr>\n",
       "      <th>0</th>\n",
       "      <td>!13041000</td>\n",
       "      <td>16</td>\n",
       "      <td>44.492500</td>\n",
       "      <td>-111.397778</td>\n",
       "      <td>HENRYS FORK AT COFFEE POT RAPIDS NR ISLAND PAR...</td>\n",
       "    </tr>\n",
       "    <tr>\n",
       "      <th>1</th>\n",
       "      <td>!10385500</td>\n",
       "      <td>41</td>\n",
       "      <td>42.699874</td>\n",
       "      <td>-120.534416</td>\n",
       "      <td>JONES-INNIS-ZX DITCH NEAR PAISLEY,OREG.</td>\n",
       "    </tr>\n",
       "    <tr>\n",
       "      <th>2</th>\n",
       "      <td>!06130000</td>\n",
       "      <td>30</td>\n",
       "      <td>46.928661</td>\n",
       "      <td>-107.932842</td>\n",
       "      <td>Flatwillow Creek near Mosby MT</td>\n",
       "    </tr>\n",
       "    <tr>\n",
       "      <th>3</th>\n",
       "      <td>!11114000</td>\n",
       "      <td>06</td>\n",
       "      <td>34.278892</td>\n",
       "      <td>-119.142051</td>\n",
       "      <td>SANTA CLARA RIVER AT MONTALVO CA</td>\n",
       "    </tr>\n",
       "    <tr>\n",
       "      <th>4</th>\n",
       "      <td>!11154700</td>\n",
       "      <td>06</td>\n",
       "      <td>36.360794</td>\n",
       "      <td>-120.760732</td>\n",
       "      <td>CLEAR C NR IDRIA CA</td>\n",
       "    </tr>\n",
       "  </tbody>\n",
       "</table>\n",
       "</div>"
      ],
      "text/plain": [
       "    site_no! state_cd  dec_lat_va  dec_long_va  \\\n",
       "0  !13041000       16   44.492500  -111.397778   \n",
       "1  !10385500       41   42.699874  -120.534416   \n",
       "2  !06130000       30   46.928661  -107.932842   \n",
       "3  !11114000       06   34.278892  -119.142051   \n",
       "4  !11154700       06   36.360794  -120.760732   \n",
       "\n",
       "                                          station_nm  \n",
       "0  HENRYS FORK AT COFFEE POT RAPIDS NR ISLAND PAR...  \n",
       "1            JONES-INNIS-ZX DITCH NEAR PAISLEY,OREG.  \n",
       "2                     Flatwillow Creek near Mosby MT  \n",
       "3                   SANTA CLARA RIVER AT MONTALVO CA  \n",
       "4                                CLEAR C NR IDRIA CA  "
      ]
     },
     "execution_count": 37,
     "metadata": {},
     "output_type": "execute_result"
    }
   ],
   "source": [
    "directory.head()"
   ]
  },
  {
   "cell_type": "code",
   "execution_count": 53,
   "metadata": {},
   "outputs": [
    {
     "data": {
      "text/html": [
       "<div>\n",
       "<style scoped>\n",
       "    .dataframe tbody tr th:only-of-type {\n",
       "        vertical-align: middle;\n",
       "    }\n",
       "\n",
       "    .dataframe tbody tr th {\n",
       "        vertical-align: top;\n",
       "    }\n",
       "\n",
       "    .dataframe thead th {\n",
       "        text-align: right;\n",
       "    }\n",
       "</style>\n",
       "<table border=\"1\" class=\"dataframe\">\n",
       "  <thead>\n",
       "    <tr style=\"text-align: right;\">\n",
       "      <th></th>\n",
       "      <th>site_no!</th>\n",
       "      <th>result_dt</th>\n",
       "      <th>measurements</th>\n",
       "    </tr>\n",
       "  </thead>\n",
       "  <tbody>\n",
       "    <tr>\n",
       "      <th>0</th>\n",
       "      <td>!05010000</td>\n",
       "      <td>1947-05-01</td>\n",
       "      <td>1</td>\n",
       "    </tr>\n",
       "    <tr>\n",
       "      <th>58354444</th>\n",
       "      <td>!11420760</td>\n",
       "      <td>2008-10-16</td>\n",
       "      <td>1</td>\n",
       "    </tr>\n",
       "    <tr>\n",
       "      <th>58354442</th>\n",
       "      <td>!11420760</td>\n",
       "      <td>2008-10-14</td>\n",
       "      <td>1</td>\n",
       "    </tr>\n",
       "    <tr>\n",
       "      <th>58354441</th>\n",
       "      <td>!11420760</td>\n",
       "      <td>2008-10-13</td>\n",
       "      <td>1</td>\n",
       "    </tr>\n",
       "    <tr>\n",
       "      <th>58354440</th>\n",
       "      <td>!11420760</td>\n",
       "      <td>2008-10-12</td>\n",
       "      <td>1</td>\n",
       "    </tr>\n",
       "  </tbody>\n",
       "</table>\n",
       "</div>"
      ],
      "text/plain": [
       "           site_no!  result_dt  measurements\n",
       "0         !05010000 1947-05-01             1\n",
       "58354444  !11420760 2008-10-16             1\n",
       "58354442  !11420760 2008-10-14             1\n",
       "58354441  !11420760 2008-10-13             1\n",
       "58354440  !11420760 2008-10-12             1"
      ]
     },
     "execution_count": 53,
     "metadata": {},
     "output_type": "execute_result"
    }
   ],
   "source": [
    "#this means that each site has only one measurement per day, which is good\n",
    "allsites2 = allsites2.groupby(['site_no!', 'result_dt'])['site_no!'].count().to_frame(name = 'measurements').reset_index()"
   ]
  },
  {
   "cell_type": "code",
   "execution_count": 54,
   "metadata": {},
   "outputs": [
    {
     "data": {
      "text/html": [
       "<div>\n",
       "<style scoped>\n",
       "    .dataframe tbody tr th:only-of-type {\n",
       "        vertical-align: middle;\n",
       "    }\n",
       "\n",
       "    .dataframe tbody tr th {\n",
       "        vertical-align: top;\n",
       "    }\n",
       "\n",
       "    .dataframe thead th {\n",
       "        text-align: right;\n",
       "    }\n",
       "</style>\n",
       "<table border=\"1\" class=\"dataframe\">\n",
       "  <thead>\n",
       "    <tr style=\"text-align: right;\">\n",
       "      <th></th>\n",
       "      <th>site_no!</th>\n",
       "      <th>result_dt</th>\n",
       "      <th>measurements</th>\n",
       "    </tr>\n",
       "  </thead>\n",
       "  <tbody>\n",
       "    <tr>\n",
       "      <th>0</th>\n",
       "      <td>!05010000</td>\n",
       "      <td>1947-05-01</td>\n",
       "      <td>1</td>\n",
       "    </tr>\n",
       "    <tr>\n",
       "      <th>58354444</th>\n",
       "      <td>!11420760</td>\n",
       "      <td>2008-10-16</td>\n",
       "      <td>1</td>\n",
       "    </tr>\n",
       "    <tr>\n",
       "      <th>58354442</th>\n",
       "      <td>!11420760</td>\n",
       "      <td>2008-10-14</td>\n",
       "      <td>1</td>\n",
       "    </tr>\n",
       "    <tr>\n",
       "      <th>58354441</th>\n",
       "      <td>!11420760</td>\n",
       "      <td>2008-10-13</td>\n",
       "      <td>1</td>\n",
       "    </tr>\n",
       "    <tr>\n",
       "      <th>58354440</th>\n",
       "      <td>!11420760</td>\n",
       "      <td>2008-10-12</td>\n",
       "      <td>1</td>\n",
       "    </tr>\n",
       "  </tbody>\n",
       "</table>\n",
       "</div>"
      ],
      "text/plain": [
       "           site_no!  result_dt  measurements\n",
       "0         !05010000 1947-05-01             1\n",
       "58354444  !11420760 2008-10-16             1\n",
       "58354442  !11420760 2008-10-14             1\n",
       "58354441  !11420760 2008-10-13             1\n",
       "58354440  !11420760 2008-10-12             1"
      ]
     },
     "execution_count": 54,
     "metadata": {},
     "output_type": "execute_result"
    }
   ],
   "source": [
    "allsites2.sort_values('measurements', ascending=False).head()"
   ]
  },
  {
   "cell_type": "code",
   "execution_count": 49,
   "metadata": {},
   "outputs": [],
   "source": [
    "#abbreviate allsites\n",
    "allsitesabbrev = allsites2[['site_no', 'site_no!', 'year']]\n",
    "\n",
    "#create a dataframe that just has the number of unique site numbers for every year\n",
    "allsitesnodupes = allsitesabbrev.drop_duplicates()"
   ]
  },
  {
   "cell_type": "code",
   "execution_count": 60,
   "metadata": {},
   "outputs": [],
   "source": [
    "gagecount = allsitesnodupes.groupby(['year'])['site_no!'].count().to_frame(name = 'gages').reset_index()\n",
    "gagecount.to_csv('gagecount_by_year.csv')"
   ]
  },
  {
   "cell_type": "code",
   "execution_count": 55,
   "metadata": {},
   "outputs": [],
   "source": [
    "directory = pd.read_csv('directorywithstate.csv')"
   ]
  },
  {
   "cell_type": "code",
   "execution_count": 57,
   "metadata": {},
   "outputs": [],
   "source": [
    "directory = directory[['site_no!', 'dec_long_va', 'dec_lat_va', 'begin_dt', 'end_dt', 'NAME']]"
   ]
  },
  {
   "cell_type": "code",
   "execution_count": 65,
   "metadata": {},
   "outputs": [],
   "source": [
    "#joining every site's historic data with the directory that has state information\n",
    "allsiteswithstate = allsitesnodupes.merge(directory, left_on='site_no!', right_on=\"site_no!\",how=\"inner\")"
   ]
  },
  {
   "cell_type": "code",
   "execution_count": 66,
   "metadata": {},
   "outputs": [
    {
     "data": {
      "text/html": [
       "<div>\n",
       "<style scoped>\n",
       "    .dataframe tbody tr th:only-of-type {\n",
       "        vertical-align: middle;\n",
       "    }\n",
       "\n",
       "    .dataframe tbody tr th {\n",
       "        vertical-align: top;\n",
       "    }\n",
       "\n",
       "    .dataframe thead th {\n",
       "        text-align: right;\n",
       "    }\n",
       "</style>\n",
       "<table border=\"1\" class=\"dataframe\">\n",
       "  <thead>\n",
       "    <tr style=\"text-align: right;\">\n",
       "      <th></th>\n",
       "      <th>site_no</th>\n",
       "      <th>site_no!</th>\n",
       "      <th>year</th>\n",
       "      <th>dec_long_va</th>\n",
       "      <th>dec_lat_va</th>\n",
       "      <th>begin_dt</th>\n",
       "      <th>end_dt</th>\n",
       "      <th>NAME</th>\n",
       "    </tr>\n",
       "  </thead>\n",
       "  <tbody>\n",
       "    <tr>\n",
       "      <th>0</th>\n",
       "      <td>05014300</td>\n",
       "      <td>!05014300</td>\n",
       "      <td>2018</td>\n",
       "      <td>-113.680583</td>\n",
       "      <td>48.795444</td>\n",
       "      <td>2003/05/01</td>\n",
       "      <td>2019/10/30</td>\n",
       "      <td>Montana</td>\n",
       "    </tr>\n",
       "    <tr>\n",
       "      <th>1</th>\n",
       "      <td>05014300</td>\n",
       "      <td>!05014300</td>\n",
       "      <td>2019</td>\n",
       "      <td>-113.680583</td>\n",
       "      <td>48.795444</td>\n",
       "      <td>2003/05/01</td>\n",
       "      <td>2019/10/30</td>\n",
       "      <td>Montana</td>\n",
       "    </tr>\n",
       "    <tr>\n",
       "      <th>2</th>\n",
       "      <td>05014300</td>\n",
       "      <td>!05014300</td>\n",
       "      <td>2020</td>\n",
       "      <td>-113.680583</td>\n",
       "      <td>48.795444</td>\n",
       "      <td>2003/05/01</td>\n",
       "      <td>2019/10/30</td>\n",
       "      <td>Montana</td>\n",
       "    </tr>\n",
       "    <tr>\n",
       "      <th>3</th>\n",
       "      <td>05014300</td>\n",
       "      <td>!05014300</td>\n",
       "      <td>2003</td>\n",
       "      <td>-113.680583</td>\n",
       "      <td>48.795444</td>\n",
       "      <td>2003/05/01</td>\n",
       "      <td>2019/10/30</td>\n",
       "      <td>Montana</td>\n",
       "    </tr>\n",
       "    <tr>\n",
       "      <th>4</th>\n",
       "      <td>05014300</td>\n",
       "      <td>!05014300</td>\n",
       "      <td>2004</td>\n",
       "      <td>-113.680583</td>\n",
       "      <td>48.795444</td>\n",
       "      <td>2003/05/01</td>\n",
       "      <td>2019/10/30</td>\n",
       "      <td>Montana</td>\n",
       "    </tr>\n",
       "  </tbody>\n",
       "</table>\n",
       "</div>"
      ],
      "text/plain": [
       "    site_no   site_no!  year  dec_long_va  dec_lat_va    begin_dt      end_dt  \\\n",
       "0  05014300  !05014300  2018  -113.680583   48.795444  2003/05/01  2019/10/30   \n",
       "1  05014300  !05014300  2019  -113.680583   48.795444  2003/05/01  2019/10/30   \n",
       "2  05014300  !05014300  2020  -113.680583   48.795444  2003/05/01  2019/10/30   \n",
       "3  05014300  !05014300  2003  -113.680583   48.795444  2003/05/01  2019/10/30   \n",
       "4  05014300  !05014300  2004  -113.680583   48.795444  2003/05/01  2019/10/30   \n",
       "\n",
       "      NAME  \n",
       "0  Montana  \n",
       "1  Montana  \n",
       "2  Montana  \n",
       "3  Montana  \n",
       "4  Montana  "
      ]
     },
     "execution_count": 66,
     "metadata": {},
     "output_type": "execute_result"
    }
   ],
   "source": [
    "allsiteswithstate.head()"
   ]
  },
  {
   "cell_type": "code",
   "execution_count": 67,
   "metadata": {},
   "outputs": [],
   "source": [
    "#get the measurements by state - I AM MISSING SOME!!!!! 74906 measurements\n",
    "gagecountbystate = allsiteswithstate.groupby(['year', 'NAME'])['site_no!'].count().to_frame(name = 'gages').reset_index()"
   ]
  },
  {
   "cell_type": "code",
   "execution_count": 69,
   "metadata": {},
   "outputs": [],
   "source": [
    "gagecountbystate.to_csv('gagecountbystate.csv')"
   ]
  },
  {
   "cell_type": "code",
   "execution_count": null,
   "metadata": {},
   "outputs": [],
   "source": []
  }
 ],
 "metadata": {
  "kernelspec": {
   "display_name": "Python 3",
   "language": "python",
   "name": "python3"
  },
  "language_info": {
   "codemirror_mode": {
    "name": "ipython",
    "version": 3
   },
   "file_extension": ".py",
   "mimetype": "text/x-python",
   "name": "python",
   "nbconvert_exporter": "python",
   "pygments_lexer": "ipython3",
   "version": "3.8.3"
  }
 },
 "nbformat": 4,
 "nbformat_minor": 4
}
